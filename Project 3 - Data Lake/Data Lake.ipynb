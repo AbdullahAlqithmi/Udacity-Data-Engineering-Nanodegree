{
 "cells": [
  {
   "cell_type": "code",
   "execution_count": 1,
   "metadata": {
    "editable": true
   },
   "outputs": [],
   "source": [
    "import configparser\n",
    "from datetime import datetime\n",
    "import os\n",
    "from pyspark.sql import SparkSession\n",
    "from pyspark.sql.functions import udf, col\n",
    "from pyspark.sql.functions import year, month, dayofmonth, hour, weekofyear, date_format"
   ]
  },
  {
   "cell_type": "code",
   "execution_count": 2,
   "metadata": {
    "editable": true
   },
   "outputs": [],
   "source": [
    "config = configparser.ConfigParser()\n",
    "config.read('dl.cfg')\n",
    "\n",
    "os.environ['AWS_ACCESS_KEY_ID']=config['AWS']['AWS_ACCESS_KEY_ID']\n",
    "os.environ['AWS_SECRET_ACCESS_KEY']=config['AWS']['AWS_SECRET_ACCESS_KEY']"
   ]
  },
  {
   "cell_type": "code",
   "execution_count": 3,
   "metadata": {
    "editable": true
   },
   "outputs": [],
   "source": [
    "    spark = SparkSession \\\n",
    "        .builder \\\n",
    "        .config(\"spark.jars.packages\", \"org.apache.hadoop:hadoop-aws:2.7.0\") \\\n",
    "        .getOrCreate()"
   ]
  },
  {
   "cell_type": "code",
   "execution_count": 36,
   "metadata": {
    "editable": true
   },
   "outputs": [],
   "source": [
    "input_data = \"s3a://udacity-dend/\"\n",
    "output_data = \"s3a://project4dend-Alqithmi/\""
   ]
  },
  {
   "cell_type": "code",
   "execution_count": 5,
   "metadata": {
    "editable": true
   },
   "outputs": [],
   "source": [
    "song_data = input_data + \"song_data/A/B/C/*.json\""
   ]
  },
  {
   "cell_type": "code",
   "execution_count": 6,
   "metadata": {
    "editable": true
   },
   "outputs": [],
   "source": [
    "df = spark.read.json(song_data)"
   ]
  },
  {
   "cell_type": "code",
   "execution_count": 8,
   "metadata": {
    "editable": true
   },
   "outputs": [],
   "source": [
    "df.createOrReplaceTempView(\"songs\")"
   ]
  },
  {
   "cell_type": "code",
   "execution_count": 16,
   "metadata": {
    "editable": true
   },
   "outputs": [
    {
     "name": "stdout",
     "output_type": "stream",
     "text": [
      "+------------------+--------------------+------------------+----+---------+\n",
      "|           song_id|               title|         artist_id|year| duration|\n",
      "+------------------+--------------------+------------------+----+---------+\n",
      "|SOCEMJV12A6D4F7667|Giant Steps (Alte...|ARIOZCU1187FB3A3DC|   0|220.44689|\n",
      "|SOQFYBD12AB0182188|               Intro|ARAADXM1187FB3ECDB|1999| 67.63057|\n",
      "|SOTDCIR12AB0184574|     I Need A Mother|ARZGTK71187B9AC7F5|2010|158.01424|\n",
      "|SOUPIRU12A6D4FA1E1| Der Kleine Dompfaff|ARJIE2Y1187B994AB7|   0|152.92036|\n",
      "|SODWBIK12AB017F87D|               Aüita|ARSMG8X1187B99CA99|2009| 210.1024|\n",
      "|SOIKLJM12A8C136355|           Eso Duele|AR7AE0W1187B98E40E|2003|196.25751|\n",
      "|SOTMKDG12A67ADAB35|        Race Of Hate|AREH0O41187FB4C405|1997|311.90159|\n",
      "|SOWQTQZ12A58A7B63E|Streets On Fire (...|ARPFHN61187FB575F6|   0|279.97995|\n",
      "|SOGDBUF12A8C140FAA|               Intro|AR558FS1187FB45658|2003| 75.67628|\n",
      "|SOYKDVO12A58A785C9|      Killa Soundboy|ARMCJVK11F4C84373E|2008|  283.402|\n",
      "|SOGHHXH12A8C13EBCB|C'Est Une Bossa Nova|ARCWVUK1187FB3C71A|1993| 130.2722|\n",
      "|SOAPVNX12AB0187625|I Remember Nights...|AR5T40Y1187B9996C6|1998| 249.3122|\n",
      "|SOMAPYF12A6D4FEC3E|All Day & All Of ...|AR5S9OB1187B9931E3|   0|156.62975|\n",
      "|SODAUVL12A8C13D184|           Prognosis|ARWB3G61187FB49404|2000|363.85914|\n",
      "|SOYLILV12A8C136650|                 XXX|ARZJDBC1187FB52056|1984|327.00036|\n",
      "|SOFIUVJ12A8C13C296|Will You Tell Me ...|AR9OEB71187B9A97C6|2005|397.16526|\n",
      "|SORRZGD12A6310DBC3|      Harajuku Girls|ARVBRGZ1187FB4675A|2004|290.55955|\n",
      "|SOEVPWF12A58A7D254|         Astral eyes|ARCJWLU1187B9ADD36|1997|274.54649|\n",
      "|SONSKXP12A8C13A2C9|         Native Soul|AR0IAWL1187B9A96D0|2003|197.19791|\n",
      "|SODREIN12A58A7F2E5|A Whiter Shade Of...|ARLTWXK1187FB5A3F8|   0|326.00771|\n",
      "+------------------+--------------------+------------------+----+---------+\n",
      "only showing top 20 rows\n",
      "\n"
     ]
    }
   ],
   "source": [
    "songs_table =  spark.sql(\"\"\"\n",
    "    SELECT distinct \n",
    "    song_id,\n",
    "    title,\n",
    "    artist_id,\n",
    "    year,\n",
    "    duration\n",
    "    FROM songs\n",
    "    \"\"\").show()"
   ]
  },
  {
   "cell_type": "code",
   "execution_count": 18,
   "metadata": {
    "editable": true
   },
   "outputs": [],
   "source": [
    " df.createOrReplaceTempView(\"artists\")"
   ]
  },
  {
   "cell_type": "code",
   "execution_count": 25,
   "metadata": {
    "editable": true
   },
   "outputs": [
    {
     "name": "stdout",
     "output_type": "stream",
     "text": [
      "+------------------+--------------------+--------------------+---------------+----------------+\n",
      "|         artist_id|         artist_name|     artist_location|artist_latitude|artist_longitude|\n",
      "+------------------+--------------------+--------------------+---------------+----------------+\n",
      "|ARBDJHO1252CCFA6FC|The Band of HM Ro...|                    |           null|            null|\n",
      "|ARAADXM1187FB3ECDB|    Styles Of Beyond|  Woodland Hills, CA|        34.1688|      -118.61092|\n",
      "|ARCWVUK1187FB3C71A|     Brigitte Bardot|                    |           null|            null|\n",
      "|AR0IAWL1187B9A96D0|        Danilo Perez|              Panama|         8.4177|       -80.11278|\n",
      "|ARJIE2Y1187B994AB7|         Line Renaud|                    |           null|            null|\n",
      "|ARSMG8X1187B99CA99|              Macaco|                    |           null|            null|\n",
      "|ARCJWLU1187B9ADD36|  Theory In Practice|                    |           null|            null|\n",
      "|ARPFHN61187FB575F6|         Lupe Fiasco|         Chicago, IL|       41.88415|       -87.63241|\n",
      "|ARCKOJF1241B9C75B4|        Eddie Sierra|                    |           null|            null|\n",
      "|AR5T40Y1187B9996C6|    The Bear Quartet|       Lulea, Sweden|           null|            null|\n",
      "|ARMCJVK11F4C84373E|      Fort Knox Five|                    |           null|            null|\n",
      "|ARZGTK71187B9AC7F5|                Eels|     California, USA|           null|            null|\n",
      "|AR7AE0W1187B98E40E|           Intocable|                    |           null|            null|\n",
      "|AR9OEB71187B9A97C6|              Faunts|Edmonton, Alberta...|           null|            null|\n",
      "|ARZJDBC1187FB52056|        Nasty Savage|    Brandon, Florida|       27.94017|       -82.32547|\n",
      "|AROSPS51187B9B481F| Vince Guaraldi Trio|                    |           null|            null|\n",
      "|ARIOZCU1187FB3A3DC|       JOHN COLTRANE|          Hamlet, NC|           null|            null|\n",
      "|AR5S9OB1187B9931E3|         Bullet Boys|     Los Angeles, CA|       34.05349|      -118.24532|\n",
      "|AREH0O41187FB4C405|             Skinlab|             Oakland|           null|            null|\n",
      "|ARWB3G61187FB49404|         Steve Morse|      Hamilton, Ohio|           null|            null|\n",
      "+------------------+--------------------+--------------------+---------------+----------------+\n",
      "only showing top 20 rows\n",
      "\n"
     ]
    }
   ],
   "source": [
    " artists_table = spark.sql(\"\"\"\n",
    "       SELECT distinct\n",
    "       artist_id,\n",
    "       artist_name,\n",
    "       artist_location,\n",
    "       artist_latitude,\n",
    "       artist_longitude\n",
    "       FROM artists \n",
    "    \"\"\").show()\n",
    "    \n",
    "   \n"
   ]
  },
  {
   "cell_type": "code",
   "execution_count": 43,
   "metadata": {
    "editable": true
   },
   "outputs": [],
   "source": [
    "log_data = input_data + \"log_data/*.json\"\n",
    "\n"
   ]
  },
  {
   "cell_type": "code",
   "execution_count": null,
   "metadata": {
    "editable": true
   },
   "outputs": [],
   "source": [
    "df = spark.read.json(log_data)"
   ]
  },
  {
   "cell_type": "code",
   "execution_count": null,
   "metadata": {
    "editable": true
   },
   "outputs": [],
   "source": []
  }
 ],
 "metadata": {
  "kernelspec": {
   "display_name": "Python 3",
   "language": "python",
   "name": "python3"
  },
  "language_info": {
   "codemirror_mode": {
    "name": "ipython",
    "version": 3
   },
   "file_extension": ".py",
   "mimetype": "text/x-python",
   "name": "python",
   "nbconvert_exporter": "python",
   "pygments_lexer": "ipython3",
   "version": "3.6.3"
  }
 },
 "nbformat": 4,
 "nbformat_minor": 4
}
